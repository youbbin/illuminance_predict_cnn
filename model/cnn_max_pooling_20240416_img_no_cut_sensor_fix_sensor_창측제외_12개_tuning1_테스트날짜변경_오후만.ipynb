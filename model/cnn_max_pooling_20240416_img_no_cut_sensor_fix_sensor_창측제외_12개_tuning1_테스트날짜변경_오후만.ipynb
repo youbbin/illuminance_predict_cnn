{
 "cells": [
  {
   "cell_type": "code",
   "execution_count": 1,
   "id": "1371798d",
   "metadata": {
    "ExecuteTime": {
     "end_time": "2024-01-16T08:21:11.948466200Z",
     "start_time": "2024-01-16T08:21:08.884877600Z"
    },
    "scrolled": true
   },
   "outputs": [
    {
     "name": "stderr",
     "output_type": "stream",
     "text": [
      "C:\\Users\\witlab\\anaconda3\\envs\\gpu_test_python3.6\\lib\\site-packages\\tensorflow\\python\\framework\\dtypes.py:469: FutureWarning: Passing (type, 1) or '1type' as a synonym of type is deprecated; in a future version of numpy, it will be understood as (type, (1,)) / '(1,)type'.\n",
      "  _np_qint8 = np.dtype([(\"qint8\", np.int8, 1)])\n",
      "C:\\Users\\witlab\\anaconda3\\envs\\gpu_test_python3.6\\lib\\site-packages\\tensorflow\\python\\framework\\dtypes.py:470: FutureWarning: Passing (type, 1) or '1type' as a synonym of type is deprecated; in a future version of numpy, it will be understood as (type, (1,)) / '(1,)type'.\n",
      "  _np_quint8 = np.dtype([(\"quint8\", np.uint8, 1)])\n",
      "C:\\Users\\witlab\\anaconda3\\envs\\gpu_test_python3.6\\lib\\site-packages\\tensorflow\\python\\framework\\dtypes.py:471: FutureWarning: Passing (type, 1) or '1type' as a synonym of type is deprecated; in a future version of numpy, it will be understood as (type, (1,)) / '(1,)type'.\n",
      "  _np_qint16 = np.dtype([(\"qint16\", np.int16, 1)])\n",
      "C:\\Users\\witlab\\anaconda3\\envs\\gpu_test_python3.6\\lib\\site-packages\\tensorflow\\python\\framework\\dtypes.py:472: FutureWarning: Passing (type, 1) or '1type' as a synonym of type is deprecated; in a future version of numpy, it will be understood as (type, (1,)) / '(1,)type'.\n",
      "  _np_quint16 = np.dtype([(\"quint16\", np.uint16, 1)])\n",
      "C:\\Users\\witlab\\anaconda3\\envs\\gpu_test_python3.6\\lib\\site-packages\\tensorflow\\python\\framework\\dtypes.py:473: FutureWarning: Passing (type, 1) or '1type' as a synonym of type is deprecated; in a future version of numpy, it will be understood as (type, (1,)) / '(1,)type'.\n",
      "  _np_qint32 = np.dtype([(\"qint32\", np.int32, 1)])\n",
      "C:\\Users\\witlab\\anaconda3\\envs\\gpu_test_python3.6\\lib\\site-packages\\tensorflow\\python\\framework\\dtypes.py:476: FutureWarning: Passing (type, 1) or '1type' as a synonym of type is deprecated; in a future version of numpy, it will be understood as (type, (1,)) / '(1,)type'.\n",
      "  np_resource = np.dtype([(\"resource\", np.ubyte, 1)])\n"
     ]
    },
    {
     "name": "stdout",
     "output_type": "stream",
     "text": [
      "True\n",
      "[name: \"/device:CPU:0\"\n",
      "device_type: \"CPU\"\n",
      "memory_limit: 268435456\n",
      "locality {\n",
      "}\n",
      "incarnation: 18319562666874188809\n",
      ", name: \"/device:GPU:0\"\n",
      "device_type: \"GPU\"\n",
      "memory_limit: 78607156\n",
      "locality {\n",
      "  bus_id: 1\n",
      "}\n",
      "incarnation: 6752597668346512172\n",
      "physical_device_desc: \"device: 0, name: GeForce GTX 1050 Ti, pci bus id: 0000:01:00.0, compute capability: 6.1\"\n",
      "]\n"
     ]
    }
   ],
   "source": [
    "import cv2\n",
    "import os\n",
    "import numpy as np\n",
    "import tensorflow as tf\n",
    "\n",
    "\n",
    "print(tf.test.is_gpu_available())\n",
    "from tensorflow.python.client import device_lib\n",
    "print(device_lib.list_local_devices())\n",
    "\n",
    "os.environ[\"CUDA_VISIBLE_DEVICES\"] = \"0\""
   ]
  },
  {
   "cell_type": "code",
   "execution_count": 2,
   "id": "a3863d31",
   "metadata": {},
   "outputs": [
    {
     "name": "stdout",
     "output_type": "stream",
     "text": [
      "(4981, 224, 224, 3)\n"
     ]
    }
   ],
   "source": [
    "# image_path = r'image\\auto_intg\\preprocess\\train_image_20240228'\n",
    "image_path=r'image\\auto_intg\\sensor_add_change_position\\preprocess_no_cut\\train_image_20240405_afternoon'\n",
    "\n",
    "image_files = [f for f in os.listdir(image_path) if f.endswith('.jpg')]\n",
    "\n",
    "images = []\n",
    "for file in image_files:\n",
    "    img = cv2.imread(os.path.join(image_path, file))\n",
    "    if img is None:\n",
    "        print(f\"{file} 읽을 수 없음\")\n",
    "        continue\n",
    "\n",
    "    img = img / 255.0  # 0~1로 정규화\n",
    "    images.append(img)\n",
    "\n",
    "images = np.array(images)\n",
    "print(images.shape)"
   ]
  },
  {
   "cell_type": "code",
   "execution_count": 3,
   "id": "a47d0682",
   "metadata": {
    "scrolled": true
   },
   "outputs": [
    {
     "name": "stdout",
     "output_type": "stream",
     "text": [
      "(4981, 12)\n"
     ]
    }
   ],
   "source": [
    "import pandas as pd\n",
    "\n",
    "excel_path = 'data/train_data_20240307-20240402_20240405_sun_info_afternoon.xlsx'\n",
    "df = pd.read_excel(excel_path, engine='openpyxl')\n",
    "\n",
    "# illum_columns = [f'new_illum_{i}' for i in range(1, 13)]\n",
    "illum_columns = [f'new_illum_{i}' for i in [10, 11, 12, 4, 5, 6, 1, 2, 3, 7, 8, 9]]\n",
    "\n",
    "\n",
    "# Extract output (illum) columns\n",
    "target_data = (df[illum_columns]).to_numpy()\n",
    "target_data[target_data < 0] = 0\n",
    "print(target_data.shape)"
   ]
  },
  {
   "cell_type": "code",
   "execution_count": 4,
   "id": "49cab806",
   "metadata": {},
   "outputs": [
    {
     "name": "stdout",
     "output_type": "stream",
     "text": [
      "Training data shape: (3984, 224, 224, 3)\n",
      "Testing data shape: (997, 224, 224, 3)\n",
      "Training target shape: (3984, 12)\n",
      "Testing target shape: (997, 12)\n"
     ]
    }
   ],
   "source": [
    "from sklearn.model_selection import train_test_split\n",
    "X_train, X_test, y_train, y_test = train_test_split(images, target_data, test_size=0.2, random_state=42)\n",
    "\n",
    "print(\"Training data shape:\", X_train.shape)\n",
    "print(\"Testing data shape:\", X_test.shape)\n",
    "print(\"Training target shape:\", y_train.shape)\n",
    "print(\"Testing target shape:\", y_test.shape)"
   ]
  },
  {
   "cell_type": "code",
   "execution_count": 5,
   "id": "08bd241f",
   "metadata": {
    "scrolled": true
   },
   "outputs": [
    {
     "name": "stdout",
     "output_type": "stream",
     "text": [
      "_________________________________________________________________\n",
      "Layer (type)                 Output Shape              Param #   \n",
      "=================================================================\n",
      "conv2d_1 (Conv2D)            (None, 222, 222, 64)      1792      \n",
      "_________________________________________________________________\n",
      "max_pooling2d_1 (MaxPooling2 (None, 111, 111, 64)      0         \n",
      "_________________________________________________________________\n",
      "conv2d_2 (Conv2D)            (None, 109, 109, 128)     73856     \n",
      "_________________________________________________________________\n",
      "max_pooling2d_2 (MaxPooling2 (None, 54, 54, 128)       0         \n",
      "_________________________________________________________________\n",
      "conv2d_3 (Conv2D)            (None, 52, 52, 256)       295168    \n",
      "_________________________________________________________________\n",
      "max_pooling2d_3 (MaxPooling2 (None, 26, 26, 256)       0         \n",
      "_________________________________________________________________\n",
      "conv2d_4 (Conv2D)            (None, 24, 24, 512)       1180160   \n",
      "_________________________________________________________________\n",
      "max_pooling2d_4 (MaxPooling2 (None, 12, 12, 512)       0         \n",
      "_________________________________________________________________\n",
      "conv2d_5 (Conv2D)            (None, 10, 10, 512)       2359808   \n",
      "_________________________________________________________________\n",
      "max_pooling2d_5 (MaxPooling2 (None, 5, 5, 512)         0         \n",
      "_________________________________________________________________\n",
      "conv2d_6 (Conv2D)            (None, 3, 3, 512)         2359808   \n",
      "_________________________________________________________________\n",
      "max_pooling2d_6 (MaxPooling2 (None, 1, 1, 512)         0         \n",
      "_________________________________________________________________\n",
      "flatten_1 (Flatten)          (None, 512)               0         \n",
      "_________________________________________________________________\n",
      "dense_1 (Dense)              (None, 256)               131328    \n",
      "_________________________________________________________________\n",
      "dense_2 (Dense)              (None, 128)               32896     \n",
      "_________________________________________________________________\n",
      "dense_3 (Dense)              (None, 64)                8256      \n",
      "_________________________________________________________________\n",
      "dense_4 (Dense)              (None, 32)                2080      \n",
      "_________________________________________________________________\n",
      "dense_5 (Dense)              (None, 16)                528       \n",
      "_________________________________________________________________\n",
      "dense_6 (Dense)              (None, 12)                204       \n",
      "=================================================================\n",
      "Total params: 6,445,884\n",
      "Trainable params: 6,445,884\n",
      "Non-trainable params: 0\n",
      "_________________________________________________________________\n",
      "Train on 3984 samples, validate on 997 samples\n",
      "Epoch 1/500\n",
      "3984/3984 [==============================] - 101s - loss: 108.5788 - acc: 0.7595 - val_loss: 51.5473 - val_acc: 0.82450 - acc - ETA: 1s - loss: 10\n",
      "Epoch 2/500\n",
      "3984/3984 [==============================] - 90s - loss: 61.0519 - acc: 0.8180 - val_loss: 76.7695 - val_acc: 0.8245\n",
      "Epoch 3/500\n",
      "3984/3984 [==============================] - 90s - loss: 58.9230 - acc: 0.8163 - val_loss: 49.1982 - val_acc: 0.8175\n",
      "Epoch 4/500\n",
      "3984/3984 [==============================] - 90s - loss: 54.9270 - acc: 0.8168 - val_loss: 61.3608 - val_acc: 0.8175\n",
      "Epoch 5/500\n",
      "3984/3984 [==============================] - 90s - loss: 47.5076 - acc: 0.8218 - val_loss: 54.0676 - val_acc: 0.8245\n",
      "Epoch 6/500\n",
      "3984/3984 [==============================] - 90s - loss: 48.8046 - acc: 0.8293 - val_loss: 48.7971 - val_acc: 0.8315\n",
      "Epoch 7/500\n",
      "3984/3984 [==============================] - 90s - loss: 43.5467 - acc: 0.8484 - val_loss: 43.4580 - val_acc: 0.8335\n",
      "Epoch 8/500\n",
      "3984/3984 [==============================] - 90s - loss: 41.6405 - acc: 0.8582 - val_loss: 41.1267 - val_acc: 0.8967\n",
      "Epoch 9/500\n",
      "3984/3984 [==============================] - 90s - loss: 41.1702 - acc: 0.8838 - val_loss: 36.2398 - val_acc: 0.9298\n",
      "Epoch 10/500\n",
      "3984/3984 [==============================] - 90s - loss: 38.3051 - acc: 0.8805 - val_loss: 36.3632 - val_acc: 0.9137\n",
      "Epoch 11/500\n",
      "3984/3984 [==============================] - 90s - loss: 37.3180 - acc: 0.8923 - val_loss: 32.1189 - val_acc: 0.8696\n",
      "Epoch 12/500\n",
      "3984/3984 [==============================] - 90s - loss: 33.9969 - acc: 0.9006 - val_loss: 32.3227 - val_acc: 0.9268\n",
      "Epoch 13/500\n",
      "3984/3984 [==============================] - 90s - loss: 33.8424 - acc: 0.8963 - val_loss: 30.6196 - val_acc: 0.9087\n",
      "Epoch 14/500\n",
      "3984/3984 [==============================] - 90s - loss: 34.9589 - acc: 0.8991 - val_loss: 37.5682 - val_acc: 0.8997\n",
      "Epoch 15/500\n",
      "3984/3984 [==============================] - 90s - loss: 32.2470 - acc: 0.9021 - val_loss: 32.1927 - val_acc: 0.9218\n",
      "Epoch 16/500\n",
      "3984/3984 [==============================] - 90s - loss: 32.3003 - acc: 0.8928 - val_loss: 31.5911 - val_acc: 0.9017\n",
      "Epoch 17/500\n",
      "3984/3984 [==============================] - 90s - loss: 31.2747 - acc: 0.8886 - val_loss: 30.2379 - val_acc: 0.8806\n",
      "Epoch 18/500\n",
      "3984/3984 [==============================] - 90s - loss: 31.1594 - acc: 0.9031 - val_loss: 48.8850 - val_acc: 0.9318\n",
      "Epoch 19/500\n",
      "3984/3984 [==============================] - 89s - loss: 28.7213 - acc: 0.9066 - val_loss: 35.2769 - val_acc: 0.8826\n",
      "Epoch 20/500\n",
      "3984/3984 [==============================] - 90s - loss: 29.4462 - acc: 0.9054 - val_loss: 25.7012 - val_acc: 0.9117\n",
      "Epoch 21/500\n",
      "3984/3984 [==============================] - 89s - loss: 27.8302 - acc: 0.9054 - val_loss: 26.4735 - val_acc: 0.9398\n",
      "Epoch 22/500\n",
      "3984/3984 [==============================] - 89s - loss: 27.5627 - acc: 0.8991 - val_loss: 30.9171 - val_acc: 0.9178\n",
      "Epoch 23/500\n",
      "3984/3984 [==============================] - 90s - loss: 24.5745 - acc: 0.8991 - val_loss: 25.6258 - val_acc: 0.9117\n",
      "Epoch 24/500\n",
      "3984/3984 [==============================] - 90s - loss: 24.6874 - acc: 0.8901 - val_loss: 21.9972 - val_acc: 0.8806\n",
      "Epoch 25/500\n",
      "3984/3984 [==============================] - 92s - loss: 23.3147 - acc: 0.8998 - val_loss: 30.5680 - val_acc: 0.8536\n",
      "Epoch 26/500\n",
      "3984/3984 [==============================] - 92s - loss: 23.3274 - acc: 0.8936 - val_loss: 23.6711 - val_acc: 0.9027\n",
      "Epoch 27/500\n",
      "3984/3984 [==============================] - 91s - loss: 22.3421 - acc: 0.8948 - val_loss: 20.2235 - val_acc: 0.9137\n",
      "Epoch 28/500\n",
      "3984/3984 [==============================] - 91s - loss: 22.2930 - acc: 0.8961 - val_loss: 23.8791 - val_acc: 0.9218\n",
      "Epoch 29/500\n",
      "3984/3984 [==============================] - 91s - loss: 22.0325 - acc: 0.8938 - val_loss: 21.5634 - val_acc: 0.9077\n",
      "Epoch 30/500\n",
      "3984/3984 [==============================] - 90s - loss: 21.8762 - acc: 0.8951 - val_loss: 20.8300 - val_acc: 0.9228\n",
      "Epoch 31/500\n",
      "3984/3984 [==============================] - 91s - loss: 21.1454 - acc: 0.8978 - val_loss: 19.2642 - val_acc: 0.8947\n",
      "Epoch 32/500\n",
      "3984/3984 [==============================] - 91s - loss: 20.9150 - acc: 0.8991 - val_loss: 23.1299 - val_acc: 0.8907\n",
      "Epoch 33/500\n",
      "3984/3984 [==============================] - 90s - loss: 20.1349 - acc: 0.9054 - val_loss: 24.0163 - val_acc: 0.9107\n",
      "Epoch 34/500\n",
      "3984/3984 [==============================] - 90s - loss: 19.1025 - acc: 0.9086 - val_loss: 23.2137 - val_acc: 0.8907\n",
      "Epoch 35/500\n",
      "3984/3984 [==============================] - 89s - loss: 19.7112 - acc: 0.8998 - val_loss: 20.6296 - val_acc: 0.9178\n",
      "Epoch 36/500\n",
      "3984/3984 [==============================] - 90s - loss: 19.7002 - acc: 0.9089 - val_loss: 17.5573 - val_acc: 0.9157\n",
      "Epoch 37/500\n",
      "3984/3984 [==============================] - 90s - loss: 18.6659 - acc: 0.9071 - val_loss: 17.2203 - val_acc: 0.9157\n",
      "Epoch 38/500\n",
      "3984/3984 [==============================] - 89s - loss: 20.1390 - acc: 0.9034 - val_loss: 19.6704 - val_acc: 0.9238\n",
      "Epoch 39/500\n",
      "3984/3984 [==============================] - 90s - loss: 18.9556 - acc: 0.9021 - val_loss: 20.0895 - val_acc: 0.9127\n",
      "Epoch 40/500\n",
      "3984/3984 [==============================] - 89s - loss: 17.8928 - acc: 0.9109 - val_loss: 22.1951 - val_acc: 0.9097\n",
      "Epoch 41/500\n"
     ]
    },
    {
     "name": "stdout",
     "output_type": "stream",
     "text": [
      "3984/3984 [==============================] - 89s - loss: 17.8935 - acc: 0.9011 - val_loss: 18.7752 - val_acc: 0.9027\n",
      "Epoch 42/500\n",
      "3984/3984 [==============================] - 89s - loss: 17.3052 - acc: 0.9096 - val_loss: 18.6256 - val_acc: 0.9288\n",
      "Epoch 43/500\n",
      "3984/3984 [==============================] - 90s - loss: 17.8198 - acc: 0.9059 - val_loss: 15.7088 - val_acc: 0.9127\n",
      "Epoch 44/500\n",
      "3984/3984 [==============================] - 89s - loss: 17.3179 - acc: 0.9066 - val_loss: 15.8601 - val_acc: 0.9147\n",
      "Epoch 45/500\n",
      "3984/3984 [==============================] - 89s - loss: 16.5831 - acc: 0.9101 - val_loss: 18.0317 - val_acc: 0.9047\n",
      "Epoch 46/500\n",
      "3984/3984 [==============================] - 89s - loss: 16.9073 - acc: 0.9101 - val_loss: 18.8087 - val_acc: 0.9127\n",
      "Epoch 47/500\n",
      "3984/3984 [==============================] - 89s - loss: 15.6952 - acc: 0.9061 - val_loss: 18.4769 - val_acc: 0.9097\n",
      "Epoch 48/500\n",
      "3984/3984 [==============================] - 90s - loss: 16.1300 - acc: 0.9147 - val_loss: 14.3784 - val_acc: 0.9278\n",
      "Epoch 49/500\n",
      "3984/3984 [==============================] - 91s - loss: 15.8871 - acc: 0.9086 - val_loss: 14.3530 - val_acc: 0.9127\n",
      "Epoch 50/500\n",
      "3984/3984 [==============================] - 90s - loss: 15.5901 - acc: 0.9101 - val_loss: 18.1908 - val_acc: 0.8596\n",
      "Epoch 51/500\n",
      "3984/3984 [==============================] - 91s - loss: 15.3363 - acc: 0.9132 - val_loss: 13.9634 - val_acc: 0.9258\n",
      "Epoch 52/500\n",
      "3984/3984 [==============================] - 90s - loss: 15.1713 - acc: 0.9194 - val_loss: 16.7582 - val_acc: 0.9168\n",
      "Epoch 53/500\n",
      "3984/3984 [==============================] - 89s - loss: 14.8862 - acc: 0.9184 - val_loss: 21.6238 - val_acc: 0.9188\n",
      "Epoch 54/500\n",
      "3984/3984 [==============================] - 89s - loss: 16.0043 - acc: 0.9127 - val_loss: 31.1356 - val_acc: 0.9238\n",
      "Epoch 55/500\n",
      "3984/3984 [==============================] - 90s - loss: 15.2770 - acc: 0.9187 - val_loss: 18.1588 - val_acc: 0.9047\n",
      "Epoch 56/500\n",
      "3984/3984 [==============================] - 89s - loss: 15.1817 - acc: 0.9116 - val_loss: 17.0779 - val_acc: 0.9268\n",
      "Epoch 57/500\n",
      "3984/3984 [==============================] - 89s - loss: 15.3404 - acc: 0.9260 - val_loss: 17.7294 - val_acc: 0.9318\n",
      "Epoch 58/500\n",
      "3984/3984 [==============================] - 89s - loss: 14.7225 - acc: 0.9247 - val_loss: 16.2280 - val_acc: 0.9418\n",
      "Epoch 59/500\n",
      "3984/3984 [==============================] - 89s - loss: 15.5723 - acc: 0.9227 - val_loss: 16.8863 - val_acc: 0.9178\n",
      "Epoch 60/500\n",
      "3984/3984 [==============================] - 89s - loss: 13.6933 - acc: 0.9282 - val_loss: 14.5166 - val_acc: 0.9208\n",
      "Epoch 61/500\n",
      "3984/3984 [==============================] - 89s - loss: 14.3691 - acc: 0.9214 - val_loss: 15.5659 - val_acc: 0.9458\n",
      "Epoch 62/500\n",
      "3984/3984 [==============================] - 89s - loss: 14.3317 - acc: 0.9202 - val_loss: 17.3174 - val_acc: 0.9388\n",
      "Epoch 63/500\n",
      "3984/3984 [==============================] - 90s - loss: 14.7621 - acc: 0.9255 - val_loss: 13.9406 - val_acc: 0.9288\n",
      "Epoch 64/500\n",
      "3984/3984 [==============================] - 90s - loss: 14.1857 - acc: 0.9345 - val_loss: 13.7142 - val_acc: 0.8877\n",
      "Epoch 65/500\n",
      "3984/3984 [==============================] - 89s - loss: 14.1654 - acc: 0.9317 - val_loss: 18.2490 - val_acc: 0.9127\n",
      "Epoch 66/500\n",
      "3984/3984 [==============================] - 89s - loss: 15.0774 - acc: 0.9212 - val_loss: 15.6176 - val_acc: 0.9087\n",
      "Epoch 67/500\n",
      "3984/3984 [==============================] - 89s - loss: 13.6432 - acc: 0.9287 - val_loss: 13.6668 - val_acc: 0.9198\n",
      "Epoch 68/500\n",
      "3984/3984 [==============================] - 89s - loss: 13.6350 - acc: 0.9270 - val_loss: 14.2789 - val_acc: 0.9448\n",
      "Epoch 69/500\n",
      "3984/3984 [==============================] - 90s - loss: 14.9116 - acc: 0.9237 - val_loss: 12.9435 - val_acc: 0.9188\n",
      "Epoch 70/500\n",
      "3984/3984 [==============================] - 90s - loss: 13.7542 - acc: 0.9212 - val_loss: 12.7115 - val_acc: 0.9448\n",
      "Epoch 71/500\n",
      "3984/3984 [==============================] - 89s - loss: 13.4033 - acc: 0.9252 - val_loss: 17.2250 - val_acc: 0.9418\n",
      "Epoch 72/500\n",
      "3984/3984 [==============================] - 90s - loss: 13.3556 - acc: 0.9290 - val_loss: 12.2355 - val_acc: 0.9157\n",
      "Epoch 73/500\n",
      "3984/3984 [==============================] - 89s - loss: 12.7510 - acc: 0.9232 - val_loss: 14.5960 - val_acc: 0.9268\n",
      "Epoch 74/500\n",
      "3984/3984 [==============================] - 89s - loss: 14.2330 - acc: 0.9280 - val_loss: 12.4691 - val_acc: 0.9248\n",
      "Epoch 75/500\n",
      "3984/3984 [==============================] - 89s - loss: 12.5527 - acc: 0.9320 - val_loss: 15.5870 - val_acc: 0.9208\n",
      "Epoch 76/500\n",
      "3984/3984 [==============================] - 89s - loss: 12.6983 - acc: 0.9352 - val_loss: 13.1576 - val_acc: 0.9188\n",
      "Epoch 77/500\n",
      "3984/3984 [==============================] - 89s - loss: 12.7235 - acc: 0.9275 - val_loss: 15.0782 - val_acc: 0.9137\n",
      "Epoch 78/500\n",
      "3984/3984 [==============================] - 89s - loss: 13.0194 - acc: 0.9285 - val_loss: 15.8309 - val_acc: 0.9157\n",
      "Epoch 79/500\n",
      "3984/3984 [==============================] - 89s - loss: 12.2946 - acc: 0.9262 - val_loss: 15.6236 - val_acc: 0.9157\n",
      "Epoch 80/500\n",
      "3984/3984 [==============================] - 89s - loss: 13.5558 - acc: 0.9297 - val_loss: 16.3494 - val_acc: 0.9368\n",
      "Epoch 81/500\n",
      "3984/3984 [==============================] - 89s - loss: 12.5299 - acc: 0.9285 - val_loss: 28.1585 - val_acc: 0.9278\n",
      "Epoch 82/500\n",
      "3984/3984 [==============================] - 89s - loss: 12.6359 - acc: 0.9297 - val_loss: 14.7994 - val_acc: 0.9418\n",
      "Epoch 83/500\n",
      "3984/3984 [==============================] - 89s - loss: 12.6912 - acc: 0.9287 - val_loss: 17.1484 - val_acc: 0.9137\n",
      "Epoch 84/500\n",
      "3984/3984 [==============================] - 89s - loss: 12.7378 - acc: 0.9305 - val_loss: 12.7224 - val_acc: 0.9208\n",
      "Epoch 85/500\n",
      "3984/3984 [==============================] - 89s - loss: 12.3895 - acc: 0.9280 - val_loss: 14.7075 - val_acc: 0.9117\n",
      "Epoch 86/500\n",
      "3984/3984 [==============================] - 89s - loss: 12.5958 - acc: 0.9297 - val_loss: 13.3783 - val_acc: 0.9398\n",
      "Epoch 87/500\n",
      "3984/3984 [==============================] - 90s - loss: 12.5026 - acc: 0.9290 - val_loss: 14.2441 - val_acc: 0.9358\n",
      "Epoch 88/500\n",
      "3984/3984 [==============================] - 89s - loss: 12.1680 - acc: 0.9287 - val_loss: 24.1872 - val_acc: 0.9027\n",
      "Epoch 89/500\n",
      "3984/3984 [==============================] - 90s - loss: 12.5606 - acc: 0.9252 - val_loss: 13.9776 - val_acc: 0.9278\n",
      "Epoch 90/500\n",
      "3984/3984 [==============================] - 90s - loss: 11.6291 - acc: 0.9312 - val_loss: 11.9735 - val_acc: 0.9268\n",
      "Epoch 91/500\n",
      "3984/3984 [==============================] - 89s - loss: 12.0193 - acc: 0.9255 - val_loss: 13.1328 - val_acc: 0.9288\n",
      "Epoch 92/500\n",
      "3984/3984 [==============================] - 89s - loss: 12.5449 - acc: 0.9307 - val_loss: 12.6045 - val_acc: 0.9318\n",
      "Epoch 93/500\n",
      "3984/3984 [==============================] - 90s - loss: 11.5439 - acc: 0.9290 - val_loss: 11.5591 - val_acc: 0.9378\n",
      "Epoch 94/500\n",
      "3984/3984 [==============================] - 89s - loss: 12.1068 - acc: 0.9249 - val_loss: 13.7427 - val_acc: 0.9278\n",
      "Epoch 95/500\n",
      "3984/3984 [==============================] - 89s - loss: 11.7152 - acc: 0.9327 - val_loss: 13.4114 - val_acc: 0.9308\n",
      "Epoch 96/500\n",
      "3984/3984 [==============================] - 89s - loss: 11.8482 - acc: 0.9337 - val_loss: 12.4640 - val_acc: 0.9398\n",
      "Epoch 97/500\n",
      "3984/3984 [==============================] - 89s - loss: 11.7497 - acc: 0.9337 - val_loss: 13.6806 - val_acc: 0.9368\n",
      "Epoch 98/500\n",
      "3984/3984 [==============================] - 89s - loss: 12.1955 - acc: 0.9372 - val_loss: 12.1237 - val_acc: 0.9448\n",
      "Epoch 99/500\n",
      "3984/3984 [==============================] - 90s - loss: 10.9891 - acc: 0.9352 - val_loss: 14.1694 - val_acc: 0.9398\n",
      "Epoch 100/500\n",
      "3984/3984 [==============================] - 89s - loss: 11.3551 - acc: 0.9280 - val_loss: 13.4870 - val_acc: 0.9298\n",
      "Epoch 101/500\n",
      "3984/3984 [==============================] - 89s - loss: 11.9961 - acc: 0.9285 - val_loss: 12.7520 - val_acc: 0.9318\n",
      "Epoch 102/500\n",
      "3984/3984 [==============================] - 89s - loss: 11.6427 - acc: 0.9332 - val_loss: 12.3157 - val_acc: 0.9157\n",
      "Epoch 103/500\n",
      "3984/3984 [==============================] - 89s - loss: 11.0268 - acc: 0.9305 - val_loss: 11.8020 - val_acc: 0.9278\n",
      "Epoch 104/500\n"
     ]
    },
    {
     "name": "stdout",
     "output_type": "stream",
     "text": [
      "3984/3984 [==============================] - 89s - loss: 10.6314 - acc: 0.9287 - val_loss: 12.7249 - val_acc: 0.9208\n",
      "Epoch 105/500\n",
      "3984/3984 [==============================] - 89s - loss: 10.9316 - acc: 0.9227 - val_loss: 21.2921 - val_acc: 0.9157\n",
      "Epoch 106/500\n",
      "3984/3984 [==============================] - 89s - loss: 11.2117 - acc: 0.9272 - val_loss: 13.6335 - val_acc: 0.9388\n",
      "Epoch 107/500\n",
      "3984/3984 [==============================] - 89s - loss: 10.7705 - acc: 0.9340 - val_loss: 15.3247 - val_acc: 0.9348\n",
      "Epoch 108/500\n",
      "3984/3984 [==============================] - 89s - loss: 12.0923 - acc: 0.9244 - val_loss: 12.4926 - val_acc: 0.9378\n",
      "Epoch 109/500\n",
      "3984/3984 [==============================] - 89s - loss: 10.9818 - acc: 0.9350 - val_loss: 17.1675 - val_acc: 0.9398\n",
      "Epoch 110/500\n",
      "3984/3984 [==============================] - 89s - loss: 11.0722 - acc: 0.9290 - val_loss: 13.9978 - val_acc: 0.9248\n",
      "Epoch 111/500\n",
      "3984/3984 [==============================] - 89s - loss: 11.2285 - acc: 0.9315 - val_loss: 13.7415 - val_acc: 0.9208\n",
      "Epoch 112/500\n",
      "3984/3984 [==============================] - 89s - loss: 11.0304 - acc: 0.9312 - val_loss: 16.5698 - val_acc: 0.9478\n",
      "Epoch 113/500\n",
      "3984/3984 [==============================] - 89s - loss: 10.7100 - acc: 0.9425 - val_loss: 13.3173 - val_acc: 0.9308\n",
      "Epoch 114/500\n",
      "3984/3984 [==============================] - 89s - loss: 10.9274 - acc: 0.9390 - val_loss: 17.3880 - val_acc: 0.9378\n",
      "997/997 [==============================] - 6s     \n",
      "Test Loss: [17.387997875481457, 0.9378134403209629]\n"
     ]
    }
   ],
   "source": [
    "from tensorflow.python.keras.models import Sequential\n",
    "from tensorflow.python.keras.layers import Conv2D, MaxPooling2D, Flatten, Dense, Dropout, AveragePooling2D\n",
    "from tensorflow.python.keras.callbacks import EarlyStopping, ModelCheckpoint\n",
    "\n",
    "# Define your CNN model\n",
    "model = Sequential()\n",
    "model.add(Conv2D(64, (3, 3), activation='relu', input_shape=(224, 224, 3)))\n",
    "model.add(MaxPooling2D((2, 2)))\n",
    "model.add(Conv2D(128, (3, 3), activation='relu'))\n",
    "model.add(MaxPooling2D((2, 2)))\n",
    "model.add(Conv2D(256, (3, 3), activation='relu'))\n",
    "model.add(MaxPooling2D((2, 2)))\n",
    "model.add(Conv2D(512, (3, 3), activation='relu'))\n",
    "model.add(MaxPooling2D((2, 2)))\n",
    "model.add(Conv2D(512, (3, 3), activation='relu'))\n",
    "model.add(MaxPooling2D((2, 2)))\n",
    "model.add(Conv2D(512, (3, 3), activation='relu'))\n",
    "model.add(MaxPooling2D((2, 2)))\n",
    "model.add(Flatten())\n",
    "model.add(Dense(256, activation='relu'))\n",
    "# model.add(Dropout(0.5))\n",
    "model.add(Dense(128, activation='relu'))\n",
    "# model.add(Dropout(0.5))\n",
    "model.add(Dense(64, activation='relu'))\n",
    "model.add(Dense(32, activation='relu'))\n",
    "model.add(Dense(16, activation='relu'))\n",
    "# model.add(Dropout(0.5))\n",
    "model.add(Dense(12))\n",
    "\n",
    "\n",
    "# Compile the model\n",
    "model.compile(optimizer='adam', loss='mean_absolute_error', metrics=['accuracy'])\n",
    "model.summary()\n",
    "\n",
    "\n",
    "early_stopping_cb = EarlyStopping(patience =20, monitor = 'val_loss')\n",
    "checkpoint_cb = ModelCheckpoint(\"model/cnn_best_model_20240417_tuning_1_창측제외_테스트변경_오후만.h5\", monitor='val_loss', save_best_only=True, mode='min')\n",
    "\n",
    "\n",
    "history = model.fit(X_train, y_train, epochs=500, batch_size=4, validation_data=(X_test, y_test), callbacks=[early_stopping_cb,checkpoint_cb])\n",
    "\n",
    "# Evaluate the model on the test set\n",
    "test_loss = model.evaluate(X_test, y_test)\n",
    "print(\"Test Loss:\", test_loss)"
   ]
  },
  {
   "cell_type": "code",
   "execution_count": 6,
   "id": "14bebecb",
   "metadata": {},
   "outputs": [
    {
     "data": {
      "image/png": "[encoded data removed]",
      "text/plain": [
       "<Figure size 432x288 with 1 Axes>"
      ]
     },
     "metadata": {
      "needs_background": "light"
     },
     "output_type": "display_data"
    }
   ],
   "source": [
    "os.environ['KMP_DUPLICATE_LIB_OK']='True'\n",
    "\n",
    "import matplotlib.pyplot as plt\n",
    "plt.plot(history.history['loss'])\n",
    "plt.plot(history.history['val_loss'])\n",
    "plt.xlabel('epoch')\n",
    "plt.ylabel('loss')\n",
    "plt.legend(['train', 'val'])\n",
    "plt.show()"
   ]
  },
  {
   "cell_type": "markdown",
   "id": "3b4e2771",
   "metadata": {},
   "source": [
    "### 2024.03.13 데이터로 성능 테스트"
   ]
  },
  {
   "cell_type": "code",
   "execution_count": 11,
   "id": "94b7d369",
   "metadata": {},
   "outputs": [
    {
     "name": "stdout",
     "output_type": "stream",
     "text": [
      "(735, 224, 224, 3)\n"
     ]
    }
   ],
   "source": [
    "test_image_path = r'image\\auto_intg\\preprocess_no_cut\\20240407'\n",
    "test_image_files = [f for f in os.listdir(test_image_path) if f.endswith('.jpg')]\n",
    "\n",
    "test_images = []\n",
    "for file in test_image_files:\n",
    "    img = cv2.imread(os.path.join(test_image_path, file))\n",
    "    if img is None:\n",
    "        print(f\"{file} 읽을 수 없음\")\n",
    "        continue\n",
    "\n",
    "    img = img / 255.0  # 0~1로 정규화\n",
    "    test_images.append(img)\n",
    "\n",
    "test_images = np.array(test_images)\n",
    "print(test_images.shape)"
   ]
  },
  {
   "cell_type": "code",
   "execution_count": 12,
   "id": "26495504",
   "metadata": {},
   "outputs": [
    {
     "name": "stdout",
     "output_type": "stream",
     "text": [
      "(735, 12)\n"
     ]
    }
   ],
   "source": [
    "test_excel_path = 'data/test_data_20240407.xlsx'\n",
    "test_df = pd.read_excel(test_excel_path, engine='openpyxl')\n",
    "\n",
    "illum_columns = [f'new_illum_{i}' for i in [10, 11, 12, 4, 5, 6, 1, 2, 3, 7, 8, 9]]\n",
    "\n",
    "# Extract output (illum) columns\n",
    "test_target_data = (test_df[illum_columns]).to_numpy()\n",
    "test_target_data[test_target_data < 0] = 0\n",
    "print(test_target_data.shape)\n",
    "\n",
    "pred = model.predict(test_images)"
   ]
  },
  {
   "cell_type": "code",
   "execution_count": 13,
   "id": "29a85a90",
   "metadata": {},
   "outputs": [
    {
     "name": "stdout",
     "output_type": "stream",
     "text": [
      "Comparison results saved to cnn_results_20240407_test_20240417_tuning1_테스트변경_오후만.xlsx\n"
     ]
    }
   ],
   "source": [
    "# Create DataFrames from the arrays\n",
    "actual_df = pd.DataFrame(test_target_data, columns=[f'Actual_Illum_{i}' for i in [10, 11, 12, 4, 5, 6, 1, 2, 3, 7, 8, 9]])\n",
    "predicted_df = pd.DataFrame(pred, columns=[f'Predicted_Illum_{i}' for i in [10, 11, 12, 4, 5, 6, 1, 2, 3, 7, 8, 9]])\n",
    "\n",
    "# Concatenate the DataFrames horizontally\n",
    "comparison_data = pd.concat([actual_df, predicted_df], axis=1)\n",
    "\n",
    "# Save the DataFrame to an Excel file\n",
    "excel_output_path = 'cnn_results_20240407_test_20240417_tuning1_테스트변경_오후만.xlsx'\n",
    "comparison_data.to_excel(excel_output_path, index=False)\n",
    "\n",
    "print(f\"Comparison results saved to {excel_output_path}\")"
   ]
  },
  {
   "cell_type": "code",
   "execution_count": 14,
   "id": "e3b7143a",
   "metadata": {},
   "outputs": [
    {
     "name": "stdout",
     "output_type": "stream",
     "text": [
      "Mean Absolute Error (MAE): 40.08672732875436\n",
      "R-squared (R²): 0.9231664862759811\n"
     ]
    }
   ],
   "source": [
    "from sklearn.metrics import r2_score, mean_absolute_error\n",
    "r_squared = r2_score(test_target_data, pred)\n",
    "mae = mean_absolute_error(test_target_data, pred)\n",
    "\n",
    "print(\"Mean Absolute Error (MAE):\", mae)\n",
    "print(\"R-squared (R²):\", r_squared)"
   ]
  },
  {
   "cell_type": "code",
   "execution_count": null,
   "id": "e6ee1870",
   "metadata": {},
   "outputs": [],
   "source": []
  }
 ],
 "metadata": {
  "kernelspec": {
   "display_name": "Python 3",
   "language": "python",
   "name": "python3"
  },
  "language_info": {
   "codemirror_mode": {
    "name": "ipython",
    "version": 3
   },
   "file_extension": ".py",
   "mimetype": "text/x-python",
   "name": "python",
   "nbconvert_exporter": "python",
   "pygments_lexer": "ipython3",
   "version": "3.6.13"
  }
 },
 "nbformat": 4,
 "nbformat_minor": 5
}

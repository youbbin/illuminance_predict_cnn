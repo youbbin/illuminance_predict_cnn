{
 "cells": [
  {
   "cell_type": "code",
   "execution_count": 1,
   "id": "1371798d",
   "metadata": {
    "ExecuteTime": {
     "end_time": "2024-01-16T08:21:11.948466200Z",
     "start_time": "2024-01-16T08:21:08.884877600Z"
    },
    "scrolled": true
   },
   "outputs": [
    {
     "name": "stderr",
     "output_type": "stream",
     "text": [
      "C:\\Users\\witlab\\anaconda3\\envs\\gpu_test_python3.6\\lib\\site-packages\\tensorflow\\python\\framework\\dtypes.py:469: FutureWarning: Passing (type, 1) or '1type' as a synonym of type is deprecated; in a future version of numpy, it will be understood as (type, (1,)) / '(1,)type'.\n",
      "  _np_qint8 = np.dtype([(\"qint8\", np.int8, 1)])\n",
      "C:\\Users\\witlab\\anaconda3\\envs\\gpu_test_python3.6\\lib\\site-packages\\tensorflow\\python\\framework\\dtypes.py:470: FutureWarning: Passing (type, 1) or '1type' as a synonym of type is deprecated; in a future version of numpy, it will be understood as (type, (1,)) / '(1,)type'.\n",
      "  _np_quint8 = np.dtype([(\"quint8\", np.uint8, 1)])\n",
      "C:\\Users\\witlab\\anaconda3\\envs\\gpu_test_python3.6\\lib\\site-packages\\tensorflow\\python\\framework\\dtypes.py:471: FutureWarning: Passing (type, 1) or '1type' as a synonym of type is deprecated; in a future version of numpy, it will be understood as (type, (1,)) / '(1,)type'.\n",
      "  _np_qint16 = np.dtype([(\"qint16\", np.int16, 1)])\n",
      "C:\\Users\\witlab\\anaconda3\\envs\\gpu_test_python3.6\\lib\\site-packages\\tensorflow\\python\\framework\\dtypes.py:472: FutureWarning: Passing (type, 1) or '1type' as a synonym of type is deprecated; in a future version of numpy, it will be understood as (type, (1,)) / '(1,)type'.\n",
      "  _np_quint16 = np.dtype([(\"quint16\", np.uint16, 1)])\n",
      "C:\\Users\\witlab\\anaconda3\\envs\\gpu_test_python3.6\\lib\\site-packages\\tensorflow\\python\\framework\\dtypes.py:473: FutureWarning: Passing (type, 1) or '1type' as a synonym of type is deprecated; in a future version of numpy, it will be understood as (type, (1,)) / '(1,)type'.\n",
      "  _np_qint32 = np.dtype([(\"qint32\", np.int32, 1)])\n",
      "C:\\Users\\witlab\\anaconda3\\envs\\gpu_test_python3.6\\lib\\site-packages\\tensorflow\\python\\framework\\dtypes.py:476: FutureWarning: Passing (type, 1) or '1type' as a synonym of type is deprecated; in a future version of numpy, it will be understood as (type, (1,)) / '(1,)type'.\n",
      "  np_resource = np.dtype([(\"resource\", np.ubyte, 1)])\n"
     ]
    },
    {
     "name": "stdout",
     "output_type": "stream",
     "text": [
      "True\n",
      "[name: \"/device:CPU:0\"\n",
      "device_type: \"CPU\"\n",
      "memory_limit: 268435456\n",
      "locality {\n",
      "}\n",
      "incarnation: 10912272913235721532\n",
      ", name: \"/device:GPU:0\"\n",
      "device_type: \"GPU\"\n",
      "memory_limit: 78607156\n",
      "locality {\n",
      "  bus_id: 1\n",
      "}\n",
      "incarnation: 13987197623220751668\n",
      "physical_device_desc: \"device: 0, name: GeForce GTX 1050 Ti, pci bus id: 0000:01:00.0, compute capability: 6.1\"\n",
      "]\n"
     ]
    }
   ],
   "source": [
    "import cv2\n",
    "import os\n",
    "import numpy as np\n",
    "import tensorflow as tf\n",
    "\n",
    "\n",
    "print(tf.test.is_gpu_available())\n",
    "from tensorflow.python.client import device_lib\n",
    "print(device_lib.list_local_devices())\n",
    "\n",
    "os.environ[\"CUDA_VISIBLE_DEVICES\"] = \"0\""
   ]
  },
  {
   "cell_type": "code",
   "execution_count": 2,
   "id": "a3863d31",
   "metadata": {},
   "outputs": [
    {
     "name": "stdout",
     "output_type": "stream",
     "text": [
      "(8350, 224, 224, 3)\n"
     ]
    }
   ],
   "source": [
    "# image_path = r'image\\auto_intg\\preprocess\\train_image_20240228'\n",
    "image_path=r'image\\auto_intg\\sensor_add_change_position\\preprocess_no_cut\\train_image_20240405'\n",
    "\n",
    "image_files = [f for f in os.listdir(image_path) if f.endswith('.jpg')]\n",
    "\n",
    "images = []\n",
    "for file in image_files:\n",
    "    img = cv2.imread(os.path.join(image_path, file))\n",
    "    if img is None:\n",
    "        print(f\"{file} 읽을 수 없음\")\n",
    "        continue\n",
    "\n",
    "    img = img / 255.0  # 0~1로 정규화\n",
    "    images.append(img)\n",
    "\n",
    "images = np.array(images)\n",
    "print(images.shape)"
   ]
  },
  {
   "cell_type": "code",
   "execution_count": 3,
   "id": "a47d0682",
   "metadata": {
    "scrolled": true
   },
   "outputs": [
    {
     "name": "stdout",
     "output_type": "stream",
     "text": [
      "(8350, 12)\n"
     ]
    }
   ],
   "source": [
    "import pandas as pd\n",
    "\n",
    "excel_path = 'data/train_data_20240307-20240402_20240405.xlsx'\n",
    "df = pd.read_excel(excel_path, engine='openpyxl')\n",
    "\n",
    "# illum_columns = [f'new_illum_{i}' for i in range(1, 13)]\n",
    "illum_columns = [f'new_illum_{i}' for i in [10, 11, 12, 4, 5, 6, 1, 2, 3, 7, 8, 9]]\n",
    "\n",
    "# Extract output (illum) columns\n",
    "target_data = (df[illum_columns]).to_numpy()\n",
    "target_data[target_data < 0] = 0\n",
    "print(target_data.shape)"
   ]
  },
  {
   "cell_type": "code",
   "execution_count": 4,
   "id": "49cab806",
   "metadata": {},
   "outputs": [
    {
     "name": "stdout",
     "output_type": "stream",
     "text": [
      "Training data shape: (6680, 224, 224, 3)\n",
      "Testing data shape: (1670, 224, 224, 3)\n",
      "Training target shape: (6680, 12)\n",
      "Testing target shape: (1670, 12)\n"
     ]
    }
   ],
   "source": [
    "from sklearn.model_selection import train_test_split\n",
    "X_train, X_test, y_train, y_test = train_test_split(images, target_data, test_size=0.2, random_state=42)\n",
    "\n",
    "print(\"Training data shape:\", X_train.shape)\n",
    "print(\"Testing data shape:\", X_test.shape)\n",
    "print(\"Training target shape:\", y_train.shape)\n",
    "print(\"Testing target shape:\", y_test.shape)"
   ]
  },
  {
   "cell_type": "code",
   "execution_count": 5,
   "id": "08bd241f",
   "metadata": {
    "scrolled": true
   },
   "outputs": [
    {
     "name": "stdout",
     "output_type": "stream",
     "text": [
      "_________________________________________________________________\n",
      "Layer (type)                 Output Shape              Param #   \n",
      "=================================================================\n",
      "conv2d_1 (Conv2D)            (None, 222, 222, 64)      1792      \n",
      "_________________________________________________________________\n",
      "max_pooling2d_1 (MaxPooling2 (None, 111, 111, 64)      0         \n",
      "_________________________________________________________________\n",
      "conv2d_2 (Conv2D)            (None, 109, 109, 128)     73856     \n",
      "_________________________________________________________________\n",
      "max_pooling2d_2 (MaxPooling2 (None, 54, 54, 128)       0         \n",
      "_________________________________________________________________\n",
      "conv2d_3 (Conv2D)            (None, 52, 52, 256)       295168    \n",
      "_________________________________________________________________\n",
      "max_pooling2d_3 (MaxPooling2 (None, 26, 26, 256)       0         \n",
      "_________________________________________________________________\n",
      "conv2d_4 (Conv2D)            (None, 24, 24, 512)       1180160   \n",
      "_________________________________________________________________\n",
      "max_pooling2d_4 (MaxPooling2 (None, 12, 12, 512)       0         \n",
      "_________________________________________________________________\n",
      "conv2d_5 (Conv2D)            (None, 10, 10, 512)       2359808   \n",
      "_________________________________________________________________\n",
      "max_pooling2d_5 (MaxPooling2 (None, 5, 5, 512)         0         \n",
      "_________________________________________________________________\n",
      "conv2d_6 (Conv2D)            (None, 3, 3, 512)         2359808   \n",
      "_________________________________________________________________\n",
      "max_pooling2d_6 (MaxPooling2 (None, 1, 1, 512)         0         \n",
      "_________________________________________________________________\n",
      "flatten_1 (Flatten)          (None, 512)               0         \n",
      "_________________________________________________________________\n",
      "dense_1 (Dense)              (None, 256)               131328    \n",
      "_________________________________________________________________\n",
      "dense_2 (Dense)              (None, 128)               32896     \n",
      "_________________________________________________________________\n",
      "dense_3 (Dense)              (None, 64)                8256      \n",
      "_________________________________________________________________\n",
      "dense_4 (Dense)              (None, 32)                2080      \n",
      "_________________________________________________________________\n",
      "dense_5 (Dense)              (None, 16)                528       \n",
      "_________________________________________________________________\n",
      "dense_6 (Dense)              (None, 12)                204       \n",
      "=================================================================\n",
      "Total params: 6,445,884\n",
      "Trainable params: 6,445,884\n",
      "Non-trainable params: 0\n",
      "_________________________________________________________________\n",
      "Train on 6680 samples, validate on 1670 samples\n",
      "Epoch 1/500\n",
      "6680/6680 [==============================] - 365s - loss: 89.6551 - acc: 0.7793 - val_loss: 60.6284 - val_acc: 0.8102\n",
      "Epoch 2/500\n",
      "6680/6680 [==============================] - 153s - loss: 59.9797 - acc: 0.8094 - val_loss: 44.2252 - val_acc: 0.8102\n",
      "Epoch 3/500\n",
      "6680/6680 [==============================] - 152s - loss: 54.3174 - acc: 0.8115 - val_loss: 37.5669 - val_acc: 0.8102\n",
      "Epoch 4/500\n",
      "6680/6680 [==============================] - 152s - loss: 45.8499 - acc: 0.8219 - val_loss: 49.3947 - val_acc: 0.8305\n",
      "Epoch 5/500\n",
      "6680/6680 [==============================] - 155s - loss: 42.8907 - acc: 0.8359 - val_loss: 35.3095 - val_acc: 0.8180\n",
      "Epoch 6/500\n",
      "6680/6680 [==============================] - 153s - loss: 39.7117 - acc: 0.8373 - val_loss: 34.4485 - val_acc: 0.8533\n",
      "Epoch 7/500\n",
      "6680/6680 [==============================] - 152s - loss: 36.8243 - acc: 0.8557 - val_loss: 35.9691 - val_acc: 0.8431\n",
      "Epoch 8/500\n",
      "6680/6680 [==============================] - 151s - loss: 34.7177 - acc: 0.8665 - val_loss: 32.0017 - val_acc: 0.8395\n",
      "Epoch 9/500\n",
      "6680/6680 [==============================] - 150s - loss: 32.1464 - acc: 0.8725 - val_loss: 54.5868 - val_acc: 0.8707\n",
      "Epoch 10/500\n",
      "6680/6680 [==============================] - 151s - loss: 30.6206 - acc: 0.8868 - val_loss: 25.6632 - val_acc: 0.9144\n",
      "Epoch 11/500\n",
      "6680/6680 [==============================] - 150s - loss: 28.9143 - acc: 0.8963 - val_loss: 29.8899 - val_acc: 0.8844\n",
      "Epoch 12/500\n",
      "6680/6680 [==============================] - 150s - loss: 27.3078 - acc: 0.8930 - val_loss: 25.7519 - val_acc: 0.8916\n",
      "Epoch 13/500\n",
      "6680/6680 [==============================] - 150s - loss: 26.4570 - acc: 0.9045 - val_loss: 26.1919 - val_acc: 0.9102\n",
      "Epoch 14/500\n",
      "6680/6680 [==============================] - 150s - loss: 24.6721 - acc: 0.8964 - val_loss: 21.9037 - val_acc: 0.8671\n",
      "Epoch 15/500\n",
      "6680/6680 [==============================] - 150s - loss: 22.3362 - acc: 0.9055 - val_loss: 41.3103 - val_acc: 0.9293\n",
      "Epoch 16/500\n",
      "6680/6680 [==============================] - 150s - loss: 21.8015 - acc: 0.9060 - val_loss: 25.4830 - val_acc: 0.9096\n",
      "Epoch 17/500\n",
      "6680/6680 [==============================] - 151s - loss: 21.4265 - acc: 0.9078 - val_loss: 18.7773 - val_acc: 0.9228\n",
      "Epoch 18/500\n",
      "6680/6680 [==============================] - 150s - loss: 20.7092 - acc: 0.9049 - val_loss: 23.2546 - val_acc: 0.9365\n",
      "Epoch 19/500\n",
      "6680/6680 [==============================] - 150s - loss: 20.4574 - acc: 0.9093 - val_loss: 19.1645 - val_acc: 0.9251\n",
      "Epoch 20/500\n",
      "6680/6680 [==============================] - 150s - loss: 19.7561 - acc: 0.9103 - val_loss: 17.5705 - val_acc: 0.9269\n",
      "Epoch 21/500\n",
      "6680/6680 [==============================] - 150s - loss: 20.0164 - acc: 0.9099 - val_loss: 21.0399 - val_acc: 0.9060\n",
      "Epoch 22/500\n",
      "6680/6680 [==============================] - 150s - loss: 19.4055 - acc: 0.9195 - val_loss: 21.9242 - val_acc: 0.9311\n",
      "Epoch 23/500\n",
      "6680/6680 [==============================] - 150s - loss: 17.9953 - acc: 0.9181 - val_loss: 19.5349 - val_acc: 0.9275\n",
      "Epoch 24/500\n",
      "6680/6680 [==============================] - 150s - loss: 18.4955 - acc: 0.9219 - val_loss: 18.2083 - val_acc: 0.8796\n",
      "Epoch 25/500\n",
      "6680/6680 [==============================] - 150s - loss: 17.6914 - acc: 0.9202 - val_loss: 18.4686 - val_acc: 0.9138\n",
      "Epoch 26/500\n",
      "6680/6680 [==============================] - 150s - loss: 17.4720 - acc: 0.9180 - val_loss: 17.7849 - val_acc: 0.9329\n",
      "Epoch 27/500\n",
      "6680/6680 [==============================] - 150s - loss: 17.7979 - acc: 0.9180 - val_loss: 18.7516 - val_acc: 0.8994\n",
      "Epoch 28/500\n",
      "6680/6680 [==============================] - 150s - loss: 17.1830 - acc: 0.9225 - val_loss: 18.5275 - val_acc: 0.9257\n",
      "Epoch 29/500\n",
      "6680/6680 [==============================] - 150s - loss: 17.8824 - acc: 0.9187 - val_loss: 17.1943 - val_acc: 0.9275\n",
      "Epoch 30/500\n",
      "6680/6680 [==============================] - 150s - loss: 16.4054 - acc: 0.9192 - val_loss: 14.4955 - val_acc: 0.9323\n",
      "Epoch 31/500\n",
      "6680/6680 [==============================] - 150s - loss: 17.1198 - acc: 0.9238 - val_loss: 19.8241 - val_acc: 0.9120\n",
      "Epoch 32/500\n",
      "6680/6680 [==============================] - 150s - loss: 16.6289 - acc: 0.9210 - val_loss: 17.2034 - val_acc: 0.9234\n",
      "Epoch 33/500\n",
      "6680/6680 [==============================] - 150s - loss: 16.4852 - acc: 0.9190 - val_loss: 15.6975 - val_acc: 0.9180\n",
      "Epoch 34/500\n",
      "6680/6680 [==============================] - 150s - loss: 16.9154 - acc: 0.9195 - val_loss: 14.8933 - val_acc: 0.9257\n",
      "Epoch 35/500\n",
      "6680/6680 [==============================] - 150s - loss: 15.4146 - acc: 0.9214 - val_loss: 14.4730 - val_acc: 0.9222\n",
      "Epoch 36/500\n",
      "6680/6680 [==============================] - 150s - loss: 16.0267 - acc: 0.9225 - val_loss: 22.0007 - val_acc: 0.9395\n",
      "Epoch 37/500\n",
      "6680/6680 [==============================] - 150s - loss: 16.4376 - acc: 0.9195 - val_loss: 17.4242 - val_acc: 0.9138\n",
      "Epoch 38/500\n",
      "6680/6680 [==============================] - 150s - loss: 15.4627 - acc: 0.9287 - val_loss: 14.2890 - val_acc: 0.9234\n",
      "Epoch 39/500\n",
      "6680/6680 [==============================] - 150s - loss: 15.0921 - acc: 0.9213 - val_loss: 14.3599 - val_acc: 0.9299\n",
      "Epoch 40/500\n",
      "6680/6680 [==============================] - 150s - loss: 15.3894 - acc: 0.9235 - val_loss: 14.9072 - val_acc: 0.9156\n",
      "Epoch 41/500\n",
      "6680/6680 [==============================] - 150s - loss: 14.8243 - acc: 0.9201 - val_loss: 15.0514 - val_acc: 0.9299\n",
      "Epoch 42/500\n",
      "6680/6680 [==============================] - 151s - loss: 14.8317 - acc: 0.9202 - val_loss: 15.3196 - val_acc: 0.9132\n",
      "Epoch 43/500\n",
      "6680/6680 [==============================] - 150s - loss: 14.9416 - acc: 0.9259 - val_loss: 16.4117 - val_acc: 0.9353\n",
      "Epoch 44/500\n",
      "6680/6680 [==============================] - 151s - loss: 14.4764 - acc: 0.9298 - val_loss: 12.9571 - val_acc: 0.9311\n",
      "Epoch 45/500\n",
      "6680/6680 [==============================] - 150s - loss: 15.0458 - acc: 0.9220 - val_loss: 17.7157 - val_acc: 0.9359\n",
      "Epoch 46/500\n",
      "6680/6680 [==============================] - 151s - loss: 14.3557 - acc: 0.9202 - val_loss: 14.2393 - val_acc: 0.9287\n",
      "Epoch 47/500\n",
      "6680/6680 [==============================] - 151s - loss: 14.3016 - acc: 0.9280 - val_loss: 14.4471 - val_acc: 0.9347\n",
      "Epoch 48/500\n",
      "6680/6680 [==============================] - 150s - loss: 14.9126 - acc: 0.9199 - val_loss: 16.5471 - val_acc: 0.9293\n",
      "Epoch 49/500\n",
      "6680/6680 [==============================] - 151s - loss: 16.4880 - acc: 0.9222 - val_loss: 13.0464 - val_acc: 0.9341\n",
      "Epoch 50/500\n",
      "6680/6680 [==============================] - 151s - loss: 13.6997 - acc: 0.9295 - val_loss: 15.2802 - val_acc: 0.9251\n",
      "Epoch 51/500\n",
      "6680/6680 [==============================] - 151s - loss: 14.8695 - acc: 0.9257 - val_loss: 14.4028 - val_acc: 0.9491\n",
      "Epoch 52/500\n",
      "6680/6680 [==============================] - 151s - loss: 14.1085 - acc: 0.9292 - val_loss: 12.6360 - val_acc: 0.9395\n",
      "Epoch 53/500\n",
      "6680/6680 [==============================] - 151s - loss: 14.3524 - acc: 0.9268 - val_loss: 13.6214 - val_acc: 0.9174\n",
      "Epoch 54/500\n",
      "6680/6680 [==============================] - 150s - loss: 13.5782 - acc: 0.9277 - val_loss: 17.9916 - val_acc: 0.9293\n",
      "Epoch 55/500\n",
      "6680/6680 [==============================] - 150s - loss: 14.0570 - acc: 0.9246 - val_loss: 13.8496 - val_acc: 0.9479\n",
      "Epoch 56/500\n",
      "6680/6680 [==============================] - 151s - loss: 13.2505 - acc: 0.9280 - val_loss: 12.8341 - val_acc: 0.8904\n",
      "Epoch 57/500\n",
      "6680/6680 [==============================] - 150s - loss: 13.6398 - acc: 0.9269 - val_loss: 17.6702 - val_acc: 0.9228\n",
      "Epoch 58/500\n",
      "6680/6680 [==============================] - 150s - loss: 13.1901 - acc: 0.9287 - val_loss: 13.0372 - val_acc: 0.9299\n",
      "Epoch 59/500\n",
      "6680/6680 [==============================] - 150s - loss: 13.2129 - acc: 0.9289 - val_loss: 15.9807 - val_acc: 0.9431\n",
      "Epoch 60/500\n",
      "6680/6680 [==============================] - 150s - loss: 13.6756 - acc: 0.9274 - val_loss: 17.8576 - val_acc: 0.9114\n",
      "Epoch 61/500\n",
      "6680/6680 [==============================] - 150s - loss: 12.8159 - acc: 0.9283 - val_loss: 14.2015 - val_acc: 0.9234\n",
      "Epoch 62/500\n",
      "6680/6680 [==============================] - 150s - loss: 13.3841 - acc: 0.9292 - val_loss: 14.2254 - val_acc: 0.9431\n",
      "Epoch 63/500\n",
      "6680/6680 [==============================] - 150s - loss: 13.0487 - acc: 0.9331 - val_loss: 14.2098 - val_acc: 0.9395\n",
      "Epoch 64/500\n",
      "6680/6680 [==============================] - 150s - loss: 12.9552 - acc: 0.9299 - val_loss: 15.9834 - val_acc: 0.9365\n",
      "Epoch 65/500\n",
      "6680/6680 [==============================] - 150s - loss: 13.5053 - acc: 0.9284 - val_loss: 16.1856 - val_acc: 0.9305\n",
      "Epoch 66/500\n",
      "6680/6680 [==============================] - 150s - loss: 12.6756 - acc: 0.9296 - val_loss: 13.1306 - val_acc: 0.9413\n",
      "Epoch 67/500\n",
      "6680/6680 [==============================] - 150s - loss: 13.2670 - acc: 0.9314 - val_loss: 17.3764 - val_acc: 0.9359\n",
      "Epoch 68/500\n",
      "6680/6680 [==============================] - 151s - loss: 13.2899 - acc: 0.9275 - val_loss: 18.0120 - val_acc: 0.9222\n",
      "Epoch 69/500\n",
      "6680/6680 [==============================] - 150s - loss: 12.5536 - acc: 0.9275 - val_loss: 13.6933 - val_acc: 0.9455\n",
      "Epoch 70/500\n",
      "6680/6680 [==============================] - 150s - loss: 12.9789 - acc: 0.9337 - val_loss: 13.7246 - val_acc: 0.9437\n",
      "Epoch 71/500\n",
      "6680/6680 [==============================] - 150s - loss: 12.7775 - acc: 0.9263 - val_loss: 13.0707 - val_acc: 0.9413\n",
      "Epoch 72/500\n",
      "6680/6680 [==============================] - 151s - loss: 12.3548 - acc: 0.9268 - val_loss: 13.8513 - val_acc: 0.9186\n",
      "Epoch 73/500\n",
      "6680/6680 [==============================] - 150s - loss: 12.8052 - acc: 0.9283 - val_loss: 12.7142 - val_acc: 0.9120\n",
      "1670/1670 [==============================] - 9s     \n",
      "Test Loss: [12.714200478970648, 0.9119760479041916]\n"
     ]
    }
   ],
   "source": [
    "from tensorflow.python.keras.models import Sequential\n",
    "from tensorflow.python.keras.layers import Conv2D, MaxPooling2D, Flatten, Dense, Dropout, AveragePooling2D\n",
    "from tensorflow.python.keras.callbacks import EarlyStopping, ModelCheckpoint\n",
    "\n",
    "# Define your CNN model\n",
    "model = Sequential()\n",
    "model.add(Conv2D(64, (3, 3), activation='relu', input_shape=(224, 224, 3)))\n",
    "model.add(MaxPooling2D((2, 2)))\n",
    "model.add(Conv2D(128, (3, 3), activation='relu'))\n",
    "model.add(MaxPooling2D((2, 2)))\n",
    "model.add(Conv2D(256, (3, 3), activation='relu'))\n",
    "model.add(MaxPooling2D((2, 2)))\n",
    "model.add(Conv2D(512, (3, 3), activation='relu'))\n",
    "model.add(MaxPooling2D((2, 2)))\n",
    "model.add(Conv2D(512, (3, 3), activation='relu'))\n",
    "model.add(MaxPooling2D((2, 2)))\n",
    "model.add(Conv2D(512, (3, 3), activation='relu'))\n",
    "model.add(MaxPooling2D((2, 2)))\n",
    "model.add(Flatten())\n",
    "model.add(Dense(256, activation='relu'))\n",
    "model.add(Dense(128, activation='relu'))\n",
    "model.add(Dense(64, activation='relu'))\n",
    "model.add(Dense(32, activation='relu'))\n",
    "model.add(Dense(16, activation='relu'))\n",
    "model.add(Dense(12))\n",
    "\n",
    "# Compile the model\n",
    "model.compile(optimizer='adam', loss='mean_absolute_error', metrics=['accuracy'])\n",
    "model.summary()\n",
    "\n",
    "\n",
    "early_stopping_cb = EarlyStopping(patience =20, monitor = 'val_loss')\n",
    "checkpoint_cb = ModelCheckpoint(\"model/cnn_best_model_20240405_tuning_1_창측제외_테스트변경.h5\", monitor='val_loss', save_best_only=True, mode='min')\n",
    "\n",
    "\n",
    "history = model.fit(X_train, y_train, epochs=500, batch_size=4, validation_data=(X_test, y_test), callbacks=[early_stopping_cb,checkpoint_cb])\n",
    "\n",
    "# Evaluate the model on the test set\n",
    "test_loss = model.evaluate(X_test, y_test)\n",
    "print(\"Test Loss:\", test_loss)"
   ]
  },
  {
   "cell_type": "code",
   "execution_count": 6,
   "id": "14bebecb",
   "metadata": {},
   "outputs": [
    {
     "data": {
      "image/png": "[encoded data removed]",
      "text/plain": [
       "<Figure size 432x288 with 1 Axes>"
      ]
     },
     "metadata": {
      "needs_background": "light"
     },
     "output_type": "display_data"
    }
   ],
   "source": [
    "os.environ['KMP_DUPLICATE_LIB_OK']='True'\n",
    "\n",
    "import matplotlib.pyplot as plt\n",
    "plt.plot(history.history['loss'])\n",
    "plt.plot(history.history['val_loss'])\n",
    "plt.xlabel('epoch')\n",
    "plt.ylabel('loss')\n",
    "plt.legend(['train', 'val'])\n",
    "plt.show()"
   ]
  },
  {
   "cell_type": "markdown",
   "id": "3b4e2771",
   "metadata": {},
   "source": [
    "### 2024.03.13 데이터로 성능 테스트"
   ]
  },
  {
   "cell_type": "code",
   "execution_count": 7,
   "id": "94b7d369",
   "metadata": {},
   "outputs": [
    {
     "name": "stdout",
     "output_type": "stream",
     "text": [
      "(703, 224, 224, 3)\n"
     ]
    }
   ],
   "source": [
    "test_image_path = r'image\\auto_intg\\sensor_add\\preprocess_no_cut\\test_image_20240323'\n",
    "test_image_files = [f for f in os.listdir(test_image_path) if f.endswith('.jpg')]\n",
    "\n",
    "test_images = []\n",
    "for file in test_image_files:\n",
    "    img = cv2.imread(os.path.join(test_image_path, file))\n",
    "    if img is None:\n",
    "        print(f\"{file} 읽을 수 없음\")\n",
    "        continue\n",
    "\n",
    "    img = img / 255.0  # 0~1로 정규화\n",
    "    test_images.append(img)\n",
    "\n",
    "test_images = np.array(test_images)\n",
    "print(test_images.shape)"
   ]
  },
  {
   "cell_type": "code",
   "execution_count": 8,
   "id": "26495504",
   "metadata": {},
   "outputs": [
    {
     "name": "stdout",
     "output_type": "stream",
     "text": [
      "(703, 12)\n"
     ]
    }
   ],
   "source": [
    "test_excel_path = 'data/test_data_20240323.xlsx'\n",
    "test_df = pd.read_excel(test_excel_path, engine='openpyxl')\n",
    "\n",
    "illum_columns = [f'new_illum_{i}' for i in [10, 11, 12, 4, 5, 6, 1, 2, 3, 7, 8, 9]]\n",
    "\n",
    "# Extract output (illum) columns\n",
    "test_target_data = (test_df[illum_columns]).to_numpy()\n",
    "test_target_data[test_target_data < 0] = 0\n",
    "print(test_target_data.shape)\n",
    "\n",
    "pred = model.predict(test_images)"
   ]
  },
  {
   "cell_type": "code",
   "execution_count": 9,
   "id": "42f1ddbd",
   "metadata": {},
   "outputs": [],
   "source": [
    "# pred = model.predict(test_images)"
   ]
  },
  {
   "cell_type": "code",
   "execution_count": 10,
   "id": "fb6e9b72",
   "metadata": {},
   "outputs": [],
   "source": [
    "# print(test_target_data.shape)\n",
    "# print(pred.shape)\n",
    "# print(type(test_target_data))\n",
    "# print(type(pred))"
   ]
  },
  {
   "cell_type": "code",
   "execution_count": 11,
   "id": "29a85a90",
   "metadata": {},
   "outputs": [
    {
     "name": "stdout",
     "output_type": "stream",
     "text": [
      "Comparison results saved to cnn_results_20240323_test_20240405_tuning1_테스트변경.xlsx\n"
     ]
    }
   ],
   "source": [
    "# Create DataFrames from the arrays\n",
    "actual_df = pd.DataFrame(test_target_data, columns=[f'Actual_Illum_{i}' for i in [10, 11, 12, 4, 5, 6, 1, 2, 3, 7, 8, 9]])\n",
    "predicted_df = pd.DataFrame(pred, columns=[f'Predicted_Illum_{i}' for i in [10, 11, 12, 4, 5, 6, 1, 2, 3, 7, 8, 9]])\n",
    "\n",
    "# Concatenate the DataFrames horizontally\n",
    "comparison_data = pd.concat([actual_df, predicted_df], axis=1)\n",
    "\n",
    "# Save the DataFrame to an Excel file\n",
    "excel_output_path = 'cnn_results_20240323_test_20240405_tuning1_테스트변경.xlsx'\n",
    "comparison_data.to_excel(excel_output_path, index=False)\n",
    "\n",
    "print(f\"Comparison results saved to {excel_output_path}\")"
   ]
  },
  {
   "cell_type": "code",
   "execution_count": 12,
   "id": "e3b7143a",
   "metadata": {},
   "outputs": [
    {
     "name": "stdout",
     "output_type": "stream",
     "text": [
      "Mean Absolute Error (MAE): 38.30057655698349\n",
      "R-squared (R²): 0.9634202731374398\n"
     ]
    }
   ],
   "source": [
    "from sklearn.metrics import r2_score, mean_absolute_error\n",
    "r_squared = r2_score(test_target_data, pred)\n",
    "mae = mean_absolute_error(test_target_data, pred)\n",
    "\n",
    "print(\"Mean Absolute Error (MAE):\", mae)\n",
    "print(\"R-squared (R²):\", r_squared)"
   ]
  },
  {
   "cell_type": "code",
   "execution_count": null,
   "id": "e6ee1870",
   "metadata": {},
   "outputs": [],
   "source": []
  }
 ],
 "metadata": {
  "kernelspec": {
   "display_name": "Python 3",
   "language": "python",
   "name": "python3"
  },
  "language_info": {
   "codemirror_mode": {
    "name": "ipython",
    "version": 3
   },
   "file_extension": ".py",
   "mimetype": "text/x-python",
   "name": "python",
   "nbconvert_exporter": "python",
   "pygments_lexer": "ipython3",
   "version": "3.6.13"
  }
 },
 "nbformat": 4,
 "nbformat_minor": 5
}

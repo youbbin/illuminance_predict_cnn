{
 "cells": [
  {
   "cell_type": "code",
   "execution_count": 17,
   "id": "9da8c135",
   "metadata": {},
   "outputs": [
    {
     "name": "stdout",
     "output_type": "stream",
     "text": [
      "완료\n"
     ]
    }
   ],
   "source": [
    "import os\n",
    "import shutil\n",
    "import glob\n",
    "\n",
    "def copy_images(source_folder, destination_folder, image_extension=\".jpg\"):\n",
    "    # Create the destination folder if it doesn't exist\n",
    "    if not os.path.exists(destination_folder):\n",
    "        os.makedirs(destination_folder)\n",
    "\n",
    "    # Use glob to get a list of image files in the source folder\n",
    "    source_pattern = os.path.join(source_folder, f\"*{image_extension}\")\n",
    "    image_files = glob.glob(source_pattern)\n",
    "\n",
    "    # Copy each image file to the destination folder\n",
    "    for image_file in image_files:\n",
    "        file_name = os.path.basename(image_file)\n",
    "        destination_path = os.path.join(destination_folder, file_name)\n",
    "        shutil.copy2(image_file, destination_path)\n",
    "    \n",
    "\n",
    "# Example usage\n",
    "source_folder = \"image/preprocess/20240117\"\n",
    "destination_folder = \"image/preprocess/train_image_20240118\"\n",
    "copy_images(source_folder, destination_folder)\n",
    "print(\"완료\")"
   ]
  }
 ],
 "metadata": {
  "kernelspec": {
   "display_name": "Python 3",
   "language": "python",
   "name": "python3"
  },
  "language_info": {
   "codemirror_mode": {
    "name": "ipython",
    "version": 3
   },
   "file_extension": ".py",
   "mimetype": "text/x-python",
   "name": "python",
   "nbconvert_exporter": "python",
   "pygments_lexer": "ipython3",
   "version": "3.6.13"
  }
 },
 "nbformat": 4,
 "nbformat_minor": 5
}

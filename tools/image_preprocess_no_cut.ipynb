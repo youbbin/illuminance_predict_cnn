{
 "cells": [
  {
   "cell_type": "markdown",
   "id": "3b8ba220",
   "metadata": {},
   "source": [
    "# 하루용 (특정 폴더 지정)"
   ]
  },
  {
   "cell_type": "code",
   "execution_count": 2,
   "id": "215efcb0",
   "metadata": {},
   "outputs": [],
   "source": [
    "import os\n",
    "import cv2\n",
    "\n",
    "def rotate_and_cut_images(input_folder, output_folder):\n",
    "    # Create the output folder if it doesn't exist\n",
    "    if not os.path.exists(output_folder):\n",
    "        os.makedirs(output_folder)\n",
    "\n",
    "    # Get a list of all image files in the input folder\n",
    "    image_files = [f for f in os.listdir(input_folder) if f.endswith(('.jpg', '.jpeg', '.png'))]\n",
    "\n",
    "    for image_file in image_files:\n",
    "        # Load the image using OpenCV\n",
    "        input_path = os.path.join(input_folder, image_file)\n",
    "        img = cv2.imread(input_path)\n",
    "\n",
    "        if img is not None:\n",
    "            # Rotate the image 90 degrees to the left\n",
    "            rotated_img = cv2.transpose(img)\n",
    "            rotated_img = cv2.flip(rotated_img, flipCode=0)\n",
    "\n",
    "            # Get the dimensions of the rotated image\n",
    "            height, _, _ = rotated_img.shape\n",
    "\n",
    "            # Calculate the number of pixels to be cut (10% from the top, 20% from the bottom)\n",
    "#             cut_pixels_top = int(height * (cut_percentage_top / 100))\n",
    "#             cut_pixels_bottom = int(height * (cut_percentage_bottom / 100))\n",
    "\n",
    "            # Cut out the top and bottom parts of the rotated image\n",
    "#             rotated_cut_img = rotated_img[cut_pixels_top:-cut_pixels_bottom, :, :]\n",
    "            resized_image = cv2.resize(rotated_img, (224, 224))\n",
    "\n",
    "            # Save the rotated and cut image to the output folder with the same filename\n",
    "            output_path = os.path.join(output_folder, image_file)\n",
    "            cv2.imwrite(output_path, resized_image)\n",
    "\n",
    "# Example usage\n",
    "input_folder = 'image/bh_auto_intg/origin/20240404'\n",
    "output_folder = 'image/bh_auto_intg/preprocess_no_cut/20240404'\n",
    "rotate_and_cut_images(input_folder, output_folder)\n"
   ]
  },
  {
   "cell_type": "markdown",
   "id": "16399c96",
   "metadata": {},
   "source": [
    "# 여러날짜용 (시작 날짜, 끝 날짜 지정)"
   ]
  },
  {
   "cell_type": "code",
   "execution_count": 4,
   "id": "29024cf3",
   "metadata": {},
   "outputs": [
    {
     "name": "stdout",
     "output_type": "stream",
     "text": [
      "Images processed for date: 20240408\n",
      "Images processed for date: 20240409\n",
      "Images processed for date: 20240410\n",
      "Images processed for date: 20240411\n",
      "Images processed for date: 20240412\n",
      "Images processed for date: 20240413\n",
      "Images processed for date: 20240414\n",
      "Images processed for date: 20240415\n",
      "Images processed for date: 20240416\n",
      "Images processed for date: 20240417\n"
     ]
    }
   ],
   "source": [
    "# 여러 날짜용\n",
    "\n",
    "import os\n",
    "import cv2\n",
    "from datetime import datetime, timedelta\n",
    "\n",
    "def rotate_and_cut_images_for_date(date_folder):\n",
    "    input_folder = os.path.join(\"image/bh_auto_intg/origin\", date_folder)\n",
    "    output_folder = os.path.join(\"image/bh_auto_intg/preprocess_no_cut\", date_folder)\n",
    "\n",
    "    # Create the output folder if it doesn't exist\n",
    "    if not os.path.exists(output_folder):\n",
    "        os.makedirs(output_folder)\n",
    "\n",
    "    # Get a list of all image files in the input folder\n",
    "    image_files = [f for f in os.listdir(input_folder) if f.endswith(('.jpg', '.jpeg', '.png'))]\n",
    "\n",
    "    for image_file in image_files:\n",
    "        # Load the image using OpenCV\n",
    "        input_path = os.path.join(input_folder, image_file)\n",
    "        img = cv2.imread(input_path)\n",
    "\n",
    "        if img is not None:\n",
    "            # Rotate the image 90 degrees to the left\n",
    "            rotated_img = cv2.transpose(img)\n",
    "            rotated_img = cv2.flip(rotated_img, flipCode=0)\n",
    "\n",
    "            # Resize the image to 224x224\n",
    "            resized_image = cv2.resize(rotated_img, (224, 224))\n",
    "\n",
    "            # Save the rotated and resized image to the output folder with the same filename\n",
    "            output_path = os.path.join(output_folder, image_file)\n",
    "            cv2.imwrite(output_path, resized_image)\n",
    "\n",
    "def process_images_for_dates(start_date_str, end_date_str):\n",
    "    start_date = datetime.strptime(start_date_str, \"%Y-%m-%d\")\n",
    "    end_date = datetime.strptime(end_date_str, \"%Y-%m-%d\")\n",
    "\n",
    "    current_date = start_date\n",
    "    while current_date <= end_date:\n",
    "        date_folder = current_date.strftime(\"%Y%m%d\")\n",
    "        rotate_and_cut_images_for_date(date_folder)\n",
    "        print(f\"Images processed for date: {date_folder}\")\n",
    "        current_date += timedelta(days=1)\n",
    "\n",
    "# 입력된 범위의 날짜 가져오기\n",
    "start_date_input = \"2024-04-08\"  # 시작 날짜 직접 입력\n",
    "end_date_input = \"2024-04-17\"    # 종료 날짜 직접 입력\n",
    "\n",
    "process_images_for_dates(start_date_input, end_date_input)\n"
   ]
  }
 ],
 "metadata": {
  "kernelspec": {
   "display_name": "Python 3",
   "language": "python",
   "name": "python3"
  },
  "language_info": {
   "codemirror_mode": {
    "name": "ipython",
    "version": 3
   },
   "file_extension": ".py",
   "mimetype": "text/x-python",
   "name": "python",
   "nbconvert_exporter": "python",
   "pygments_lexer": "ipython3",
   "version": "3.6.13"
  }
 },
 "nbformat": 4,
 "nbformat_minor": 5
}

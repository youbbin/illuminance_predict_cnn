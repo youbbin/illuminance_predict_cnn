{
 "cells": [
  {
   "cell_type": "code",
   "execution_count": 1,
   "id": "215efcb0",
   "metadata": {},
   "outputs": [],
   "source": [
    "import os\n",
    "import cv2\n",
    "\n",
    "def rotate_and_cut_images(input_folder, output_folder, cut_percentage_top=10, cut_percentage_bottom=20):\n",
    "    # Create the output folder if it doesn't exist\n",
    "    if not os.path.exists(output_folder):\n",
    "        os.makedirs(output_folder)\n",
    "\n",
    "    # Get a list of all image files in the input folder\n",
    "    image_files = [f for f in os.listdir(input_folder) if f.endswith(('.jpg', '.jpeg', '.png'))]\n",
    "\n",
    "    for image_file in image_files:\n",
    "        # Load the image using OpenCV\n",
    "        input_path = os.path.join(input_folder, image_file)\n",
    "        img = cv2.imread(input_path)\n",
    "\n",
    "        if img is not None:\n",
    "            # Rotate the image 90 degrees to the left\n",
    "            rotated_img = cv2.transpose(img)\n",
    "            rotated_img = cv2.flip(rotated_img, flipCode=0)\n",
    "\n",
    "            # Get the dimensions of the rotated image\n",
    "            height, _, _ = rotated_img.shape\n",
    "\n",
    "            # Calculate the number of pixels to be cut (10% from the top, 20% from the bottom)\n",
    "            cut_pixels_top = int(height * (cut_percentage_top / 100))\n",
    "            cut_pixels_bottom = int(height * (cut_percentage_bottom / 100))\n",
    "\n",
    "            # Cut out the top and bottom parts of the rotated image\n",
    "            rotated_cut_img = rotated_img[cut_pixels_top:-cut_pixels_bottom, :, :]\n",
    "            resized_image = cv2.resize(rotated_cut_img, (224, 224))\n",
    "\n",
    "            # Save the rotated and cut image to the output folder with the same filename\n",
    "            output_path = os.path.join(output_folder, image_file)\n",
    "            cv2.imwrite(output_path, resized_image)\n",
    "\n",
    "# Example usage\n",
    "input_folder = 'image/auto_intg/20240228'\n",
    "output_folder = 'image/auto_intg/preprocess/20240228'\n",
    "rotate_and_cut_images(input_folder, output_folder, cut_percentage_top=10, cut_percentage_bottom=20)\n"
   ]
  },
  {
   "cell_type": "code",
   "execution_count": null,
   "id": "88a1c4bd",
   "metadata": {},
   "outputs": [],
   "source": []
  }
 ],
 "metadata": {
  "kernelspec": {
   "display_name": "Python 3",
   "language": "python",
   "name": "python3"
  },
  "language_info": {
   "codemirror_mode": {
    "name": "ipython",
    "version": 3
   },
   "file_extension": ".py",
   "mimetype": "text/x-python",
   "name": "python",
   "nbconvert_exporter": "python",
   "pygments_lexer": "ipython3",
   "version": "3.6.13"
  }
 },
 "nbformat": 4,
 "nbformat_minor": 5
}

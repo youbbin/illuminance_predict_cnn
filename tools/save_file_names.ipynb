{
 "cells": [
  {
   "cell_type": "code",
   "execution_count": 2,
   "id": "28d94f0a",
   "metadata": {},
   "outputs": [
    {
     "ename": "FileNotFoundError",
     "evalue": "[WinError 3] 지정된 경로를 찾을 수 없습니다: 'image/preprocess_no_cut/20240407'",
     "output_type": "error",
     "traceback": [
      "\u001b[1;31m---------------------------------------------------------------------------\u001b[0m",
      "\u001b[1;31mFileNotFoundError\u001b[0m                         Traceback (most recent call last)",
      "\u001b[1;32m<ipython-input-2-35b2aac9def6>\u001b[0m in \u001b[0;36m<module>\u001b[1;34m\u001b[0m\n\u001b[0;32m     42\u001b[0m \u001b[1;33m\u001b[0m\u001b[0m\n\u001b[0;32m     43\u001b[0m \u001b[1;31m# Call the function to save file names and extracted date-time to Excel\u001b[0m\u001b[1;33m\u001b[0m\u001b[1;33m\u001b[0m\u001b[1;33m\u001b[0m\u001b[0m\n\u001b[1;32m---> 44\u001b[1;33m \u001b[0msave_file_names_to_excel\u001b[0m\u001b[1;33m(\u001b[0m\u001b[0mfolder_path\u001b[0m\u001b[1;33m,\u001b[0m \u001b[0mexcel_file_path\u001b[0m\u001b[1;33m)\u001b[0m\u001b[1;33m\u001b[0m\u001b[1;33m\u001b[0m\u001b[0m\n\u001b[0m\u001b[0;32m     45\u001b[0m \u001b[0mprint\u001b[0m\u001b[1;33m(\u001b[0m\u001b[1;34m\"완료\"\u001b[0m\u001b[1;33m)\u001b[0m\u001b[1;33m\u001b[0m\u001b[1;33m\u001b[0m\u001b[0m\n",
      "\u001b[1;32m<ipython-input-2-35b2aac9def6>\u001b[0m in \u001b[0;36msave_file_names_to_excel\u001b[1;34m(folder_path, excel_file_path)\u001b[0m\n\u001b[0;32m     12\u001b[0m \u001b[1;32mdef\u001b[0m \u001b[0msave_file_names_to_excel\u001b[0m\u001b[1;33m(\u001b[0m\u001b[0mfolder_path\u001b[0m\u001b[1;33m,\u001b[0m \u001b[0mexcel_file_path\u001b[0m\u001b[1;33m)\u001b[0m\u001b[1;33m:\u001b[0m\u001b[1;33m\u001b[0m\u001b[1;33m\u001b[0m\u001b[0m\n\u001b[0;32m     13\u001b[0m     \u001b[1;31m# Get a list of all file names in the specified folder\u001b[0m\u001b[1;33m\u001b[0m\u001b[1;33m\u001b[0m\u001b[1;33m\u001b[0m\u001b[0m\n\u001b[1;32m---> 14\u001b[1;33m     \u001b[0mfile_names\u001b[0m \u001b[1;33m=\u001b[0m \u001b[0mos\u001b[0m\u001b[1;33m.\u001b[0m\u001b[0mlistdir\u001b[0m\u001b[1;33m(\u001b[0m\u001b[0mfolder_path\u001b[0m\u001b[1;33m)\u001b[0m\u001b[1;33m\u001b[0m\u001b[1;33m\u001b[0m\u001b[0m\n\u001b[0m\u001b[0;32m     15\u001b[0m \u001b[1;33m\u001b[0m\u001b[0m\n\u001b[0;32m     16\u001b[0m     \u001b[1;31m# Create a DataFrame to store file names and extracted date-time\u001b[0m\u001b[1;33m\u001b[0m\u001b[1;33m\u001b[0m\u001b[1;33m\u001b[0m\u001b[0m\n",
      "\u001b[1;31mFileNotFoundError\u001b[0m: [WinError 3] 지정된 경로를 찾을 수 없습니다: 'image/preprocess_no_cut/20240407'"
     ]
    }
   ],
   "source": [
    "import os\n",
    "import pandas as pd\n",
    "from openpyxl import Workbook\n",
    "from openpyxl.styles import NamedStyle\n",
    "from openpyxl.utils.dataframe import dataframe_to_rows\n",
    "\n",
    "def extract_date_time(file_name):\n",
    "    # Extract date and time from the file name (assuming the format is YYYYMMDD_HHMMSS)\n",
    "    date_str, time_str = file_name[:8], file_name[9:15]\n",
    "    return pd.to_datetime(f\"{date_str} {time_str[:2]}:{time_str[2:4]}:{time_str[4:]}\")\n",
    "\n",
    "def save_file_names_to_excel(folder_path, excel_file_path):\n",
    "    # Get a list of all file names in the specified folder\n",
    "    file_names = os.listdir(folder_path)\n",
    "\n",
    "    # Create a DataFrame to store file names and extracted date-time\n",
    "    data = {'filename': file_names}\n",
    "    df = pd.DataFrame(data)\n",
    "\n",
    "    # Extract date and time from the filename and add a new 'datetime' column\n",
    "    df['datetime'] = df['filename'].apply(extract_date_time)\n",
    "\n",
    "    # Create a new Excel workbook\n",
    "    workbook = Workbook()\n",
    "    sheet = workbook.active\n",
    "\n",
    "    # Write DataFrame to Excel sheet\n",
    "    for row in dataframe_to_rows(df, index=False, header=True):\n",
    "        sheet.append(row)\n",
    "\n",
    "    # Apply datetime format to the 'datetime' column\n",
    "    date_time_style = NamedStyle(name='datetime', number_format='YYYY-MM-DD HH:MM:SS')\n",
    "    for cell in sheet['B'][1:]:\n",
    "        cell.style = date_time_style\n",
    "\n",
    "    # Save the workbook to the specified Excel file\n",
    "    workbook.save(excel_file_path)\n",
    "\n",
    "# Specify the folder path and Excel file path\n",
    "folder_path = 'image/preprocess_no_cut/20240407'\n",
    "excel_file_path = 'data/20240407_img_illum.xlsx'\n",
    "\n",
    "# Call the function to save file names and extracted date-time to Excel\n",
    "save_file_names_to_excel(folder_path, excel_file_path)\n",
    "print(\"완료\")"
   ]
  },
  {
   "cell_type": "code",
   "execution_count": null,
   "id": "18af87bf",
   "metadata": {},
   "outputs": [],
   "source": []
  }
 ],
 "metadata": {
  "kernelspec": {
   "display_name": "Python 3",
   "language": "python",
   "name": "python3"
  },
  "language_info": {
   "codemirror_mode": {
    "name": "ipython",
    "version": 3
   },
   "file_extension": ".py",
   "mimetype": "text/x-python",
   "name": "python",
   "nbconvert_exporter": "python",
   "pygments_lexer": "ipython3",
   "version": "3.6.13"
  }
 },
 "nbformat": 4,
 "nbformat_minor": 5
}
